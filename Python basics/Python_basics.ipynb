{
 "cells": [
  {
   "cell_type": "markdown",
   "id": "f9947a84-8338-481e-a25d-4d90e682f4b9",
   "metadata": {},
   "source": [
    "## Variables"
   ]
  },
  {
   "cell_type": "code",
   "execution_count": null,
   "id": "1fc23e75-0fd8-45f3-8153-913818da0713",
   "metadata": {},
   "outputs": [],
   "source": [
    "print(\"Hello world!\")"
   ]
  },
  {
   "cell_type": "code",
   "execution_count": 5,
   "id": "2982ddfb-7919-4175-80ff-88bb810968df",
   "metadata": {},
   "outputs": [
    {
     "name": "stdout",
     "output_type": "stream",
     "text": [
      "10\n"
     ]
    }
   ],
   "source": [
    "x = 10\n",
    "print(x)"
   ]
  },
  {
   "cell_type": "markdown",
   "id": "b007302e-833b-4322-b0ec-0efe5f36d698",
   "metadata": {},
   "source": [
    "<p>This is not what \n",
    "i thought would be</p>"
   ]
  },
  {
   "cell_type": "code",
   "execution_count": 14,
   "id": "2ae979f2-19f4-4e88-abb4-68425f99b5c0",
   "metadata": {},
   "outputs": [],
   "source": [
    "complex_datatypes = 1 + 2j"
   ]
  },
  {
   "cell_type": "code",
   "execution_count": 16,
   "id": "d74dc83c-5801-4964-b236-600fcd82e69f",
   "metadata": {},
   "outputs": [
    {
     "name": "stdout",
     "output_type": "stream",
     "text": [
      "<class 'complex'>\n"
     ]
    }
   ],
   "source": [
    "print(type(complex_datatypes))"
   ]
  },
  {
   "cell_type": "markdown",
   "id": "39d0c62e-359b-4ae0-a3f7-80265c0a3f53",
   "metadata": {},
   "source": [
    "### File Handling"
   ]
  },
  {
   "cell_type": "code",
   "execution_count": 34,
   "id": "78dabe9b-6b5b-4b7c-b3b0-9d18282a719a",
   "metadata": {},
   "outputs": [],
   "source": [
    "example = \"\"\"This is how we roll\n",
    "            Let's see how this goes\"\"\""
   ]
  },
  {
   "cell_type": "code",
   "execution_count": 36,
   "id": "5775ab60-9398-4f73-a8c2-35e5a17849d5",
   "metadata": {},
   "outputs": [],
   "source": [
    "file_obj = open(\"example.txt\", \"wt\")\n",
    "file_obj.write(example)\n",
    "file_obj.close()"
   ]
  },
  {
   "cell_type": "code",
   "execution_count": 39,
   "id": "9ec8e2d6-1121-4ba9-bef1-ff0989e3696e",
   "metadata": {},
   "outputs": [],
   "source": [
    "file_obj=open(\"example.txt\", \"rt\")\n",
    "data = file_obj.read()\n",
    "file_obj.close()"
   ]
  },
  {
   "cell_type": "code",
   "execution_count": 41,
   "id": "5b3f9992-f58d-4bed-ba16-fb087dbe9a22",
   "metadata": {},
   "outputs": [
    {
     "name": "stdout",
     "output_type": "stream",
     "text": [
      "This is how we roll\n",
      "            Let's see how this goes\n"
     ]
    }
   ],
   "source": [
    "print(data)"
   ]
  },
  {
   "cell_type": "code",
   "execution_count": null,
   "id": "c6883550-d793-4e13-acea-fd26c1f4733f",
   "metadata": {},
   "outputs": [],
   "source": []
  }
 ],
 "metadata": {
  "kernelspec": {
   "display_name": "Python 3 (ipykernel)",
   "language": "python",
   "name": "python3"
  },
  "language_info": {
   "codemirror_mode": {
    "name": "ipython",
    "version": 3
   },
   "file_extension": ".py",
   "mimetype": "text/x-python",
   "name": "python",
   "nbconvert_exporter": "python",
   "pygments_lexer": "ipython3",
   "version": "3.12.4"
  }
 },
 "nbformat": 4,
 "nbformat_minor": 5
}
